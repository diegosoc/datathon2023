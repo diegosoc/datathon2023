{
 "cells": [
  {
   "cell_type": "code",
   "execution_count": 1,
   "metadata": {},
   "outputs": [
    {
     "data": {
      "text/html": [
       "<pre style=\"white-space:pre;overflow-x:auto;line-height:normal;font-family:Menlo,'DejaVu Sans Mono',consolas,'Courier New',monospace\"><span style=\"color: #7fbfbf; text-decoration-color: #7fbfbf\">[11/17/23 21:07:39] </span><span style=\"color: #000080; text-decoration-color: #000080\">INFO    </span> Resolved project path as: d:\\programacion\\Repositorios\\datathon2023.   <a href=\"file://c:\\Users\\David\\anaconda3\\envs\\datathon2023\\lib\\site-packages\\kedro\\ipython\\__init__.py\" target=\"_blank\"><span style=\"color: #7f7f7f; text-decoration-color: #7f7f7f\">__init__.py</span></a><span style=\"color: #7f7f7f; text-decoration-color: #7f7f7f\">:</span><a href=\"file://c:\\Users\\David\\anaconda3\\envs\\datathon2023\\lib\\site-packages\\kedro\\ipython\\__init__.py#139\" target=\"_blank\"><span style=\"color: #7f7f7f; text-decoration-color: #7f7f7f\">139</span></a>\n",
       "<span style=\"color: #7fbfbf; text-decoration-color: #7fbfbf\">                    </span>         To set a different path, run <span style=\"color: #008000; text-decoration-color: #008000\">'%reload_kedro &lt;project_root&gt;'</span>            <span style=\"color: #7f7f7f; text-decoration-color: #7f7f7f\">               </span>\n",
       "</pre>\n"
      ],
      "text/plain": [
       "\u001b[2;36m[11/17/23 21:07:39]\u001b[0m\u001b[2;36m \u001b[0m\u001b[34mINFO    \u001b[0m Resolved project path as: d:\\programacion\\Repositorios\\datathon2023.   \u001b]8;id=58974;file://c:\\Users\\David\\anaconda3\\envs\\datathon2023\\lib\\site-packages\\kedro\\ipython\\__init__.py\u001b\\\u001b[2m__init__.py\u001b[0m\u001b]8;;\u001b\\\u001b[2m:\u001b[0m\u001b]8;id=882215;file://c:\\Users\\David\\anaconda3\\envs\\datathon2023\\lib\\site-packages\\kedro\\ipython\\__init__.py#139\u001b\\\u001b[2m139\u001b[0m\u001b]8;;\u001b\\\n",
       "\u001b[2;36m                    \u001b[0m         To set a different path, run \u001b[32m'%reload_kedro \u001b[0m\u001b[32m<\u001b[0m\u001b[32mproject_root\u001b[0m\u001b[32m>\u001b[0m\u001b[32m'\u001b[0m            \u001b[2m               \u001b[0m\n"
      ]
     },
     "metadata": {},
     "output_type": "display_data"
    },
    {
     "data": {
      "text/html": [
       "<pre style=\"white-space:pre;overflow-x:auto;line-height:normal;font-family:Menlo,'DejaVu Sans Mono',consolas,'Courier New',monospace\"><span style=\"color: #7fbfbf; text-decoration-color: #7fbfbf\">[11/17/23 21:08:02] </span><span style=\"color: #800000; text-decoration-color: #800000\">WARNING </span> c:\\Users\\David\\anaconda3\\envs\\datathon2023\\lib\\site-packages\\kedro\\fra <a href=\"file://c:\\Users\\David\\anaconda3\\envs\\datathon2023\\lib\\warnings.py\" target=\"_blank\"><span style=\"color: #7f7f7f; text-decoration-color: #7f7f7f\">warnings.py</span></a><span style=\"color: #7f7f7f; text-decoration-color: #7f7f7f\">:</span><a href=\"file://c:\\Users\\David\\anaconda3\\envs\\datathon2023\\lib\\warnings.py#109\" target=\"_blank\"><span style=\"color: #7f7f7f; text-decoration-color: #7f7f7f\">109</span></a>\n",
       "<span style=\"color: #7fbfbf; text-decoration-color: #7fbfbf\">                    </span>         mework\\context\\context.py:<span style=\"color: #008080; text-decoration-color: #008080; font-weight: bold\">239</span>: UserWarning: Parameters not found in    <span style=\"color: #7f7f7f; text-decoration-color: #7f7f7f\">               </span>\n",
       "<span style=\"color: #7fbfbf; text-decoration-color: #7fbfbf\">                    </span>         your Kedro project config.                                             <span style=\"color: #7f7f7f; text-decoration-color: #7f7f7f\">               </span>\n",
       "<span style=\"color: #7fbfbf; text-decoration-color: #7fbfbf\">                    </span>         No files of YAML or JSON format found in                               <span style=\"color: #7f7f7f; text-decoration-color: #7f7f7f\">               </span>\n",
       "<span style=\"color: #7fbfbf; text-decoration-color: #7fbfbf\">                    </span>         D:\\programacion\\Repositorios\\datathon2023\\conf\\base or                 <span style=\"color: #7f7f7f; text-decoration-color: #7f7f7f\">               </span>\n",
       "<span style=\"color: #7fbfbf; text-decoration-color: #7fbfbf\">                    </span>         D:\\programacion\\Repositorios\\datathon2023\\conf\\local matching the glob <span style=\"color: #7f7f7f; text-decoration-color: #7f7f7f\">               </span>\n",
       "<span style=\"color: #7fbfbf; text-decoration-color: #7fbfbf\">                    </span>         <span style=\"color: #800080; text-decoration-color: #800080; font-weight: bold\">pattern</span><span style=\"font-weight: bold\">(</span>s<span style=\"font-weight: bold\">)</span>: <span style=\"font-weight: bold\">[</span><span style=\"color: #008000; text-decoration-color: #008000\">'parameters*'</span>, <span style=\"color: #008000; text-decoration-color: #008000\">'parameters*/**'</span>, <span style=\"color: #008000; text-decoration-color: #008000\">'**/parameters*'</span><span style=\"font-weight: bold\">]</span>        <span style=\"color: #7f7f7f; text-decoration-color: #7f7f7f\">               </span>\n",
       "<span style=\"color: #7fbfbf; text-decoration-color: #7fbfbf\">                    </span>           <span style=\"color: #800080; text-decoration-color: #800080; font-weight: bold\">warn</span><span style=\"font-weight: bold\">(</span>f\"Parameters not found in your Kedro project                    <span style=\"color: #7f7f7f; text-decoration-color: #7f7f7f\">               </span>\n",
       "<span style=\"color: #7fbfbf; text-decoration-color: #7fbfbf\">                    </span>         config.\\n<span style=\"font-weight: bold\">{</span><span style=\"color: #800080; text-decoration-color: #800080; font-weight: bold\">str</span><span style=\"font-weight: bold\">(</span>exc<span style=\"font-weight: bold\">)}</span>\"<span style=\"font-weight: bold\">)</span>                                                  <span style=\"color: #7f7f7f; text-decoration-color: #7f7f7f\">               </span>\n",
       "<span style=\"color: #7fbfbf; text-decoration-color: #7fbfbf\">                    </span>                                                                                <span style=\"color: #7f7f7f; text-decoration-color: #7f7f7f\">               </span>\n",
       "</pre>\n"
      ],
      "text/plain": [
       "\u001b[2;36m[11/17/23 21:08:02]\u001b[0m\u001b[2;36m \u001b[0m\u001b[31mWARNING \u001b[0m c:\\Users\\David\\anaconda3\\envs\\datathon2023\\lib\\site-packages\\kedro\\fra \u001b]8;id=954911;file://c:\\Users\\David\\anaconda3\\envs\\datathon2023\\lib\\warnings.py\u001b\\\u001b[2mwarnings.py\u001b[0m\u001b]8;;\u001b\\\u001b[2m:\u001b[0m\u001b]8;id=414966;file://c:\\Users\\David\\anaconda3\\envs\\datathon2023\\lib\\warnings.py#109\u001b\\\u001b[2m109\u001b[0m\u001b]8;;\u001b\\\n",
       "\u001b[2;36m                    \u001b[0m         mework\\context\\context.py:\u001b[1;36m239\u001b[0m: UserWarning: Parameters not found in    \u001b[2m               \u001b[0m\n",
       "\u001b[2;36m                    \u001b[0m         your Kedro project config.                                             \u001b[2m               \u001b[0m\n",
       "\u001b[2;36m                    \u001b[0m         No files of YAML or JSON format found in                               \u001b[2m               \u001b[0m\n",
       "\u001b[2;36m                    \u001b[0m         D:\\programacion\\Repositorios\\datathon2023\\conf\\base or                 \u001b[2m               \u001b[0m\n",
       "\u001b[2;36m                    \u001b[0m         D:\\programacion\\Repositorios\\datathon2023\\conf\\local matching the glob \u001b[2m               \u001b[0m\n",
       "\u001b[2;36m                    \u001b[0m         \u001b[1;35mpattern\u001b[0m\u001b[1m(\u001b[0ms\u001b[1m)\u001b[0m: \u001b[1m[\u001b[0m\u001b[32m'parameters*'\u001b[0m, \u001b[32m'parameters*/**'\u001b[0m, \u001b[32m'**/parameters*'\u001b[0m\u001b[1m]\u001b[0m        \u001b[2m               \u001b[0m\n",
       "\u001b[2;36m                    \u001b[0m           \u001b[1;35mwarn\u001b[0m\u001b[1m(\u001b[0mf\"Parameters not found in your Kedro project                    \u001b[2m               \u001b[0m\n",
       "\u001b[2;36m                    \u001b[0m         config.\\n\u001b[1m{\u001b[0m\u001b[1;35mstr\u001b[0m\u001b[1m(\u001b[0mexc\u001b[1m)\u001b[0m\u001b[1m}\u001b[0m\"\u001b[1m)\u001b[0m                                                  \u001b[2m               \u001b[0m\n",
       "\u001b[2;36m                    \u001b[0m                                                                                \u001b[2m               \u001b[0m\n"
      ]
     },
     "metadata": {},
     "output_type": "display_data"
    },
    {
     "data": {
      "text/html": [
       "<pre style=\"white-space:pre;overflow-x:auto;line-height:normal;font-family:Menlo,'DejaVu Sans Mono',consolas,'Courier New',monospace\"><span style=\"color: #7fbfbf; text-decoration-color: #7fbfbf\">                    </span><span style=\"color: #000080; text-decoration-color: #000080\">INFO    </span> Kedro project datathon2023                                             <a href=\"file://c:\\Users\\David\\anaconda3\\envs\\datathon2023\\lib\\site-packages\\kedro\\ipython\\__init__.py\" target=\"_blank\"><span style=\"color: #7f7f7f; text-decoration-color: #7f7f7f\">__init__.py</span></a><span style=\"color: #7f7f7f; text-decoration-color: #7f7f7f\">:</span><a href=\"file://c:\\Users\\David\\anaconda3\\envs\\datathon2023\\lib\\site-packages\\kedro\\ipython\\__init__.py#108\" target=\"_blank\"><span style=\"color: #7f7f7f; text-decoration-color: #7f7f7f\">108</span></a>\n",
       "</pre>\n"
      ],
      "text/plain": [
       "\u001b[2;36m                   \u001b[0m\u001b[2;36m \u001b[0m\u001b[34mINFO    \u001b[0m Kedro project datathon2023                                             \u001b]8;id=811739;file://c:\\Users\\David\\anaconda3\\envs\\datathon2023\\lib\\site-packages\\kedro\\ipython\\__init__.py\u001b\\\u001b[2m__init__.py\u001b[0m\u001b]8;;\u001b\\\u001b[2m:\u001b[0m\u001b]8;id=542403;file://c:\\Users\\David\\anaconda3\\envs\\datathon2023\\lib\\site-packages\\kedro\\ipython\\__init__.py#108\u001b\\\u001b[2m108\u001b[0m\u001b]8;;\u001b\\\n"
      ]
     },
     "metadata": {},
     "output_type": "display_data"
    },
    {
     "data": {
      "text/html": [
       "<pre style=\"white-space:pre;overflow-x:auto;line-height:normal;font-family:Menlo,'DejaVu Sans Mono',consolas,'Courier New',monospace\"><span style=\"color: #7fbfbf; text-decoration-color: #7fbfbf\">                    </span><span style=\"color: #000080; text-decoration-color: #000080\">INFO    </span> Defined global variable <span style=\"color: #008000; text-decoration-color: #008000\">'context'</span>, <span style=\"color: #008000; text-decoration-color: #008000\">'session'</span>, <span style=\"color: #008000; text-decoration-color: #008000\">'catalog'</span> and            <a href=\"file://c:\\Users\\David\\anaconda3\\envs\\datathon2023\\lib\\site-packages\\kedro\\ipython\\__init__.py\" target=\"_blank\"><span style=\"color: #7f7f7f; text-decoration-color: #7f7f7f\">__init__.py</span></a><span style=\"color: #7f7f7f; text-decoration-color: #7f7f7f\">:</span><a href=\"file://c:\\Users\\David\\anaconda3\\envs\\datathon2023\\lib\\site-packages\\kedro\\ipython\\__init__.py#109\" target=\"_blank\"><span style=\"color: #7f7f7f; text-decoration-color: #7f7f7f\">109</span></a>\n",
       "<span style=\"color: #7fbfbf; text-decoration-color: #7fbfbf\">                    </span>         <span style=\"color: #008000; text-decoration-color: #008000\">'pipelines'</span>                                                            <span style=\"color: #7f7f7f; text-decoration-color: #7f7f7f\">               </span>\n",
       "</pre>\n"
      ],
      "text/plain": [
       "\u001b[2;36m                   \u001b[0m\u001b[2;36m \u001b[0m\u001b[34mINFO    \u001b[0m Defined global variable \u001b[32m'context'\u001b[0m, \u001b[32m'session'\u001b[0m, \u001b[32m'catalog'\u001b[0m and            \u001b]8;id=253004;file://c:\\Users\\David\\anaconda3\\envs\\datathon2023\\lib\\site-packages\\kedro\\ipython\\__init__.py\u001b\\\u001b[2m__init__.py\u001b[0m\u001b]8;;\u001b\\\u001b[2m:\u001b[0m\u001b]8;id=445169;file://c:\\Users\\David\\anaconda3\\envs\\datathon2023\\lib\\site-packages\\kedro\\ipython\\__init__.py#109\u001b\\\u001b[2m109\u001b[0m\u001b]8;;\u001b\\\n",
       "\u001b[2;36m                    \u001b[0m         \u001b[32m'pipelines'\u001b[0m                                                            \u001b[2m               \u001b[0m\n"
      ]
     },
     "metadata": {},
     "output_type": "display_data"
    }
   ],
   "source": [
    "%load_ext kedro.extras.extensions.ipython\n"
   ]
  },
  {
   "cell_type": "code",
   "execution_count": 2,
   "metadata": {},
   "outputs": [
    {
     "data": {
      "text/html": [
       "<pre style=\"white-space:pre;overflow-x:auto;line-height:normal;font-family:Menlo,'DejaVu Sans Mono',consolas,'Courier New',monospace\"><span style=\"color: #7fbfbf; text-decoration-color: #7fbfbf\">[11/17/23 21:08:03] </span><span style=\"color: #000080; text-decoration-color: #000080\">INFO    </span> Loading data from <span style=\"color: #008000; text-decoration-color: #008000\">'comportamiento_municipios'</span> <span style=\"font-weight: bold\">(</span>CSVDataset<span style=\"font-weight: bold\">)</span><span style=\"color: #808000; text-decoration-color: #808000\">...</span>      <a href=\"file://c:\\Users\\David\\anaconda3\\envs\\datathon2023\\lib\\site-packages\\kedro\\io\\data_catalog.py\" target=\"_blank\"><span style=\"color: #7f7f7f; text-decoration-color: #7f7f7f\">data_catalog.py</span></a><span style=\"color: #7f7f7f; text-decoration-color: #7f7f7f\">:</span><a href=\"file://c:\\Users\\David\\anaconda3\\envs\\datathon2023\\lib\\site-packages\\kedro\\io\\data_catalog.py#492\" target=\"_blank\"><span style=\"color: #7f7f7f; text-decoration-color: #7f7f7f\">492</span></a>\n",
       "</pre>\n"
      ],
      "text/plain": [
       "\u001b[2;36m[11/17/23 21:08:03]\u001b[0m\u001b[2;36m \u001b[0m\u001b[34mINFO    \u001b[0m Loading data from \u001b[32m'comportamiento_municipios'\u001b[0m \u001b[1m(\u001b[0mCSVDataset\u001b[1m)\u001b[0m\u001b[33m...\u001b[0m      \u001b]8;id=945822;file://c:\\Users\\David\\anaconda3\\envs\\datathon2023\\lib\\site-packages\\kedro\\io\\data_catalog.py\u001b\\\u001b[2mdata_catalog.py\u001b[0m\u001b]8;;\u001b\\\u001b[2m:\u001b[0m\u001b]8;id=874035;file://c:\\Users\\David\\anaconda3\\envs\\datathon2023\\lib\\site-packages\\kedro\\io\\data_catalog.py#492\u001b\\\u001b[2m492\u001b[0m\u001b]8;;\u001b\\\n"
      ]
     },
     "metadata": {},
     "output_type": "display_data"
    },
    {
     "data": {
      "text/html": [
       "<pre style=\"white-space:pre;overflow-x:auto;line-height:normal;font-family:Menlo,'DejaVu Sans Mono',consolas,'Courier New',monospace\"><span style=\"color: #800000; text-decoration-color: #800000\">╭─────────────────────────────── </span><span style=\"color: #800000; text-decoration-color: #800000; font-weight: bold\">Traceback </span><span style=\"color: #bf7f7f; text-decoration-color: #bf7f7f; font-weight: bold\">(most recent call last)</span><span style=\"color: #800000; text-decoration-color: #800000\"> ────────────────────────────────╮</span>\n",
       "<span style=\"color: #800000; text-decoration-color: #800000\">│</span> <span style=\"color: #808000; text-decoration-color: #808000\">c:\\Users\\David\\anaconda3\\envs\\datathon2023\\lib\\site-packages\\kedro\\io\\core.py</span>:<span style=\"color: #0000ff; text-decoration-color: #0000ff\">192</span> in <span style=\"color: #00ff00; text-decoration-color: #00ff00\">load</span>        <span style=\"color: #800000; text-decoration-color: #800000\">│</span>\n",
       "<span style=\"color: #800000; text-decoration-color: #800000\">│</span>                                                                                                  <span style=\"color: #800000; text-decoration-color: #800000\">│</span>\n",
       "<span style=\"color: #800000; text-decoration-color: #800000\">│</span> <span style=\"color: #808000; text-decoration-color: #808000\">c:\\Users\\David\\anaconda3\\envs\\datathon2023\\lib\\site-packages\\kedro_datasets\\polars\\csv_dataset.p</span> <span style=\"color: #800000; text-decoration-color: #800000\">│</span>\n",
       "<span style=\"color: #800000; text-decoration-color: #800000\">│</span> <span style=\"color: #808000; text-decoration-color: #808000\">y</span>:<span style=\"color: #0000ff; text-decoration-color: #0000ff\">164</span> in <span style=\"color: #00ff00; text-decoration-color: #00ff00\">_load</span>                                                                                   <span style=\"color: #800000; text-decoration-color: #800000\">│</span>\n",
       "<span style=\"color: #800000; text-decoration-color: #800000\">│</span>                                                                                                  <span style=\"color: #800000; text-decoration-color: #800000\">│</span>\n",
       "<span style=\"color: #800000; text-decoration-color: #800000\">│</span> <span style=\"color: #808000; text-decoration-color: #808000\">c:\\Users\\David\\anaconda3\\envs\\datathon2023\\lib\\site-packages\\polars\\io\\csv\\functions.py</span>:<span style=\"color: #0000ff; text-decoration-color: #0000ff\">364</span> in   <span style=\"color: #800000; text-decoration-color: #800000\">│</span>\n",
       "<span style=\"color: #800000; text-decoration-color: #800000\">│</span> <span style=\"color: #00ff00; text-decoration-color: #00ff00\">read_csv</span>                                                                                         <span style=\"color: #800000; text-decoration-color: #800000\">│</span>\n",
       "<span style=\"color: #800000; text-decoration-color: #800000\">│</span>                                                                                                  <span style=\"color: #800000; text-decoration-color: #800000\">│</span>\n",
       "<span style=\"color: #800000; text-decoration-color: #800000\">│</span> <span style=\"color: #808000; text-decoration-color: #808000\">c:\\Users\\David\\anaconda3\\envs\\datathon2023\\lib\\site-packages\\polars\\dataframe\\frame.py</span>:<span style=\"color: #0000ff; text-decoration-color: #0000ff\">769</span> in    <span style=\"color: #800000; text-decoration-color: #800000\">│</span>\n",
       "<span style=\"color: #800000; text-decoration-color: #800000\">│</span> <span style=\"color: #00ff00; text-decoration-color: #00ff00\">_read_csv</span>                                                                                        <span style=\"color: #800000; text-decoration-color: #800000\">│</span>\n",
       "<span style=\"color: #800000; text-decoration-color: #800000\">╰──────────────────────────────────────────────────────────────────────────────────────────────────╯</span>\n",
       "<span style=\"color: #ff0000; text-decoration-color: #ff0000; font-weight: bold\">FileNotFoundError: </span>No such file or directory: <span style=\"color: #808000; text-decoration-color: #808000\">...</span>ta/00Documentación/Encuesta sobre gasto \n",
       "turístico/CM01_1_comportamiento_municipios.csv\n",
       "\n",
       "<span style=\"font-style: italic\">The above exception was the direct cause of the following exception:</span>\n",
       "\n",
       "<span style=\"color: #800000; text-decoration-color: #800000\">╭─────────────────────────────── </span><span style=\"color: #800000; text-decoration-color: #800000; font-weight: bold\">Traceback </span><span style=\"color: #bf7f7f; text-decoration-color: #bf7f7f; font-weight: bold\">(most recent call last)</span><span style=\"color: #800000; text-decoration-color: #800000\"> ────────────────────────────────╮</span>\n",
       "<span style=\"color: #800000; text-decoration-color: #800000\">│</span> in <span style=\"color: #00ff00; text-decoration-color: #00ff00\">&lt;module&gt;</span>:<span style=\"color: #0000ff; text-decoration-color: #0000ff\">1</span>                                                                                    <span style=\"color: #800000; text-decoration-color: #800000\">│</span>\n",
       "<span style=\"color: #800000; text-decoration-color: #800000\">│</span>                                                                                                  <span style=\"color: #800000; text-decoration-color: #800000\">│</span>\n",
       "<span style=\"color: #800000; text-decoration-color: #800000\">│</span> <span style=\"color: #800000; text-decoration-color: #800000\">❱ </span>1 data=catalog.load(<span style=\"color: #808000; text-decoration-color: #808000\">\"comportamiento_municipios\"</span>)                                               <span style=\"color: #800000; text-decoration-color: #800000\">│</span>\n",
       "<span style=\"color: #800000; text-decoration-color: #800000\">│</span>   <span style=\"color: #7f7f7f; text-decoration-color: #7f7f7f\">2 </span>                                                                                             <span style=\"color: #800000; text-decoration-color: #800000\">│</span>\n",
       "<span style=\"color: #800000; text-decoration-color: #800000\">│</span>                                                                                                  <span style=\"color: #800000; text-decoration-color: #800000\">│</span>\n",
       "<span style=\"color: #800000; text-decoration-color: #800000\">│</span> <span style=\"color: #808000; text-decoration-color: #808000\">c:\\Users\\David\\anaconda3\\envs\\datathon2023\\lib\\site-packages\\kedro\\io\\data_catalog.py</span>:<span style=\"color: #0000ff; text-decoration-color: #0000ff\">496</span> in     <span style=\"color: #800000; text-decoration-color: #800000\">│</span>\n",
       "<span style=\"color: #800000; text-decoration-color: #800000\">│</span> <span style=\"color: #00ff00; text-decoration-color: #00ff00\">load</span>                                                                                             <span style=\"color: #800000; text-decoration-color: #800000\">│</span>\n",
       "<span style=\"color: #800000; text-decoration-color: #800000\">│</span>                                                                                                  <span style=\"color: #800000; text-decoration-color: #800000\">│</span>\n",
       "<span style=\"color: #800000; text-decoration-color: #800000\">│</span> <span style=\"color: #808000; text-decoration-color: #808000\">c:\\Users\\David\\anaconda3\\envs\\datathon2023\\lib\\site-packages\\kedro\\io\\core.py</span>:<span style=\"color: #0000ff; text-decoration-color: #0000ff\">613</span> in <span style=\"color: #00ff00; text-decoration-color: #00ff00\">load</span>        <span style=\"color: #800000; text-decoration-color: #800000\">│</span>\n",
       "<span style=\"color: #800000; text-decoration-color: #800000\">│</span>                                                                                                  <span style=\"color: #800000; text-decoration-color: #800000\">│</span>\n",
       "<span style=\"color: #800000; text-decoration-color: #800000\">│</span> <span style=\"color: #808000; text-decoration-color: #808000\">c:\\Users\\David\\anaconda3\\envs\\datathon2023\\lib\\site-packages\\kedro\\io\\core.py</span>:<span style=\"color: #0000ff; text-decoration-color: #0000ff\">201</span> in <span style=\"color: #00ff00; text-decoration-color: #00ff00\">load</span>        <span style=\"color: #800000; text-decoration-color: #800000\">│</span>\n",
       "<span style=\"color: #800000; text-decoration-color: #800000\">╰──────────────────────────────────────────────────────────────────────────────────────────────────╯</span>\n",
       "<span style=\"color: #ff0000; text-decoration-color: #ff0000; font-weight: bold\">DatasetError: </span>Failed while loading data from data set \n",
       "<span style=\"color: #800080; text-decoration-color: #800080; font-weight: bold\">CSVDataset</span><span style=\"font-weight: bold\">(</span><span style=\"color: #808000; text-decoration-color: #808000\">filepath</span>=<span style=\"color: #800080; text-decoration-color: #800080\">D</span>:<span style=\"color: #800080; text-decoration-color: #800080\">/programacion/Repositorios/datathon2023/data/00Documentación/</span><span style=\"color: #ff00ff; text-decoration-color: #ff00ff\">Encuesta</span> sobre gasto \n",
       "turístico/CM01_1_comportamiento_municipios.csv, <span style=\"color: #808000; text-decoration-color: #808000\">load_args</span>=<span style=\"font-weight: bold\">{</span><span style=\"color: #008000; text-decoration-color: #008000\">'rechunk'</span>: <span style=\"color: #00ff00; text-decoration-color: #00ff00; font-style: italic\">True</span><span style=\"font-weight: bold\">}</span>, <span style=\"color: #808000; text-decoration-color: #808000\">protocol</span>=<span style=\"color: #800080; text-decoration-color: #800080\">file</span>, <span style=\"color: #808000; text-decoration-color: #808000\">save_args</span>=<span style=\"font-weight: bold\">{})</span>.\n",
       "No such file or directory: <span style=\"color: #808000; text-decoration-color: #808000\">...</span>ta/00Documentación/Encuesta sobre gasto \n",
       "turístico/CM01_1_comportamiento_municipios.csv\n",
       "</pre>\n"
      ],
      "text/plain": [
       "\u001b[31m╭─\u001b[0m\u001b[31m──────────────────────────────\u001b[0m\u001b[31m \u001b[0m\u001b[1;31mTraceback \u001b[0m\u001b[1;2;31m(most recent call last)\u001b[0m\u001b[31m \u001b[0m\u001b[31m───────────────────────────────\u001b[0m\u001b[31m─╮\u001b[0m\n",
       "\u001b[31m│\u001b[0m \u001b[33mc:\\Users\\David\\anaconda3\\envs\\datathon2023\\lib\\site-packages\\kedro\\io\\core.py\u001b[0m:\u001b[94m192\u001b[0m in \u001b[92mload\u001b[0m        \u001b[31m│\u001b[0m\n",
       "\u001b[31m│\u001b[0m                                                                                                  \u001b[31m│\u001b[0m\n",
       "\u001b[31m│\u001b[0m \u001b[33mc:\\Users\\David\\anaconda3\\envs\\datathon2023\\lib\\site-packages\\kedro_datasets\\polars\\csv_dataset.p\u001b[0m \u001b[31m│\u001b[0m\n",
       "\u001b[31m│\u001b[0m \u001b[33my\u001b[0m:\u001b[94m164\u001b[0m in \u001b[92m_load\u001b[0m                                                                                   \u001b[31m│\u001b[0m\n",
       "\u001b[31m│\u001b[0m                                                                                                  \u001b[31m│\u001b[0m\n",
       "\u001b[31m│\u001b[0m \u001b[33mc:\\Users\\David\\anaconda3\\envs\\datathon2023\\lib\\site-packages\\polars\\io\\csv\\functions.py\u001b[0m:\u001b[94m364\u001b[0m in   \u001b[31m│\u001b[0m\n",
       "\u001b[31m│\u001b[0m \u001b[92mread_csv\u001b[0m                                                                                         \u001b[31m│\u001b[0m\n",
       "\u001b[31m│\u001b[0m                                                                                                  \u001b[31m│\u001b[0m\n",
       "\u001b[31m│\u001b[0m \u001b[33mc:\\Users\\David\\anaconda3\\envs\\datathon2023\\lib\\site-packages\\polars\\dataframe\\frame.py\u001b[0m:\u001b[94m769\u001b[0m in    \u001b[31m│\u001b[0m\n",
       "\u001b[31m│\u001b[0m \u001b[92m_read_csv\u001b[0m                                                                                        \u001b[31m│\u001b[0m\n",
       "\u001b[31m╰──────────────────────────────────────────────────────────────────────────────────────────────────╯\u001b[0m\n",
       "\u001b[1;91mFileNotFoundError: \u001b[0mNo such file or directory: \u001b[33m...\u001b[0mta/00Documentación/Encuesta sobre gasto \n",
       "turístico/CM01_1_comportamiento_municipios.csv\n",
       "\n",
       "\u001b[3mThe above exception was the direct cause of the following exception:\u001b[0m\n",
       "\n",
       "\u001b[31m╭─\u001b[0m\u001b[31m──────────────────────────────\u001b[0m\u001b[31m \u001b[0m\u001b[1;31mTraceback \u001b[0m\u001b[1;2;31m(most recent call last)\u001b[0m\u001b[31m \u001b[0m\u001b[31m───────────────────────────────\u001b[0m\u001b[31m─╮\u001b[0m\n",
       "\u001b[31m│\u001b[0m in \u001b[92m<module>\u001b[0m:\u001b[94m1\u001b[0m                                                                                    \u001b[31m│\u001b[0m\n",
       "\u001b[31m│\u001b[0m                                                                                                  \u001b[31m│\u001b[0m\n",
       "\u001b[31m│\u001b[0m \u001b[31m❱ \u001b[0m1 data=catalog.load(\u001b[33m\"\u001b[0m\u001b[33mcomportamiento_municipios\u001b[0m\u001b[33m\"\u001b[0m)                                               \u001b[31m│\u001b[0m\n",
       "\u001b[31m│\u001b[0m   \u001b[2m2 \u001b[0m                                                                                             \u001b[31m│\u001b[0m\n",
       "\u001b[31m│\u001b[0m                                                                                                  \u001b[31m│\u001b[0m\n",
       "\u001b[31m│\u001b[0m \u001b[33mc:\\Users\\David\\anaconda3\\envs\\datathon2023\\lib\\site-packages\\kedro\\io\\data_catalog.py\u001b[0m:\u001b[94m496\u001b[0m in     \u001b[31m│\u001b[0m\n",
       "\u001b[31m│\u001b[0m \u001b[92mload\u001b[0m                                                                                             \u001b[31m│\u001b[0m\n",
       "\u001b[31m│\u001b[0m                                                                                                  \u001b[31m│\u001b[0m\n",
       "\u001b[31m│\u001b[0m \u001b[33mc:\\Users\\David\\anaconda3\\envs\\datathon2023\\lib\\site-packages\\kedro\\io\\core.py\u001b[0m:\u001b[94m613\u001b[0m in \u001b[92mload\u001b[0m        \u001b[31m│\u001b[0m\n",
       "\u001b[31m│\u001b[0m                                                                                                  \u001b[31m│\u001b[0m\n",
       "\u001b[31m│\u001b[0m \u001b[33mc:\\Users\\David\\anaconda3\\envs\\datathon2023\\lib\\site-packages\\kedro\\io\\core.py\u001b[0m:\u001b[94m201\u001b[0m in \u001b[92mload\u001b[0m        \u001b[31m│\u001b[0m\n",
       "\u001b[31m╰──────────────────────────────────────────────────────────────────────────────────────────────────╯\u001b[0m\n",
       "\u001b[1;91mDatasetError: \u001b[0mFailed while loading data from data set \n",
       "\u001b[1;35mCSVDataset\u001b[0m\u001b[1m(\u001b[0m\u001b[33mfilepath\u001b[0m=\u001b[35mD\u001b[0m:\u001b[35m/programacion/Repositorios/datathon2023/data/00Documentación/\u001b[0m\u001b[95mEncuesta\u001b[0m sobre gasto \n",
       "turístico/CM01_1_comportamiento_municipios.csv, \u001b[33mload_args\u001b[0m=\u001b[1m{\u001b[0m\u001b[32m'rechunk'\u001b[0m: \u001b[3;92mTrue\u001b[0m\u001b[1m}\u001b[0m, \u001b[33mprotocol\u001b[0m=\u001b[35mfile\u001b[0m, \u001b[33msave_args\u001b[0m=\u001b[1m{\u001b[0m\u001b[1m}\u001b[0m\u001b[1m)\u001b[0m.\n",
       "No such file or directory: \u001b[33m...\u001b[0mta/00Documentación/Encuesta sobre gasto \n",
       "turístico/CM01_1_comportamiento_municipios.csv\n"
      ]
     },
     "metadata": {},
     "output_type": "display_data"
    }
   ],
   "source": [
    "data=catalog.load(\"comportamiento_municipios\")"
   ]
  },
  {
   "cell_type": "code",
   "execution_count": 3,
   "metadata": {},
   "outputs": [
    {
     "data": {
      "text/html": [
       "<pre style=\"white-space:pre;overflow-x:auto;line-height:normal;font-family:Menlo,'DejaVu Sans Mono',consolas,'Courier New',monospace\"></pre>\n"
      ],
      "text/plain": []
     },
     "metadata": {},
     "output_type": "display_data"
    },
    {
     "data": {
      "text/plain": [
       "\u001b[1m(\u001b[0m\u001b[1;36m2639\u001b[0m, \u001b[1;36m290\u001b[0m\u001b[1m)\u001b[0m"
      ]
     },
     "execution_count": 3,
     "metadata": {},
     "output_type": "execute_result"
    }
   ],
   "source": [
    "data.collect().shape"
   ]
  },
  {
   "cell_type": "code",
   "execution_count": 8,
   "metadata": {},
   "outputs": [],
   "source": [
    "df=data.collect().to_pandas()"
   ]
  },
  {
   "cell_type": "code",
   "execution_count": 16,
   "metadata": {},
   "outputs": [
    {
     "data": {
      "text/html": [
       "<pre style=\"white-space:pre;overflow-x:auto;line-height:normal;font-family:Menlo,'DejaVu Sans Mono',consolas,'Courier New',monospace\"></pre>\n"
      ],
      "text/plain": []
     },
     "metadata": {},
     "output_type": "display_data"
    },
    {
     "data": {
      "text/plain": [
       "\n",
       "\u001b[1m[\u001b[0m\n",
       "    \u001b[32m'_id'\u001b[0m,\n",
       "    \u001b[32m'TaskId'\u001b[0m,\n",
       "    \u001b[32m'grid'\u001b[0m,\n",
       "    \u001b[32m'Ubicaci�n'\u001b[0m,\n",
       "    \u001b[32m'DriveTest'\u001b[0m,\n",
       "    \u001b[32m'TagSonda'\u001b[0m,\n",
       "    \u001b[32m'Operador'\u001b[0m,\n",
       "    \u001b[32m'Network'\u001b[0m,\n",
       "    \u001b[32m'Vehiculo'\u001b[0m,\n",
       "    \u001b[32m'Protocolo'\u001b[0m,\n",
       "    \u001b[32m'Aux'\u001b[0m,\n",
       "    \u001b[32m'Observaci�n'\u001b[0m,\n",
       "    \u001b[32m'probeId'\u001b[0m,\n",
       "    \u001b[32m'Tag'\u001b[0m,\n",
       "    \u001b[32m'Campaign'\u001b[0m,\n",
       "    \u001b[32m'program'\u001b[0m,\n",
       "    \u001b[32m'TestName'\u001b[0m,\n",
       "    \u001b[32m'ArgsTtl'\u001b[0m,\n",
       "    \u001b[32m'ttl'\u001b[0m,\n",
       "    \u001b[32m'TestComplete'\u001b[0m,\n",
       "    \u001b[32m'KpisSuccess'\u001b[0m,\n",
       "    \u001b[32m'ExitCode'\u001b[0m,\n",
       "    \u001b[32m'DateStart_IsoUtc'\u001b[0m,\n",
       "    \u001b[32m'DateEnd_IsoUtc'\u001b[0m,\n",
       "    \u001b[32m'DateTime'\u001b[0m,\n",
       "    \u001b[32m'Hours'\u001b[0m,\n",
       "    \u001b[32m'LocalHours'\u001b[0m,\n",
       "    \u001b[32m'Date'\u001b[0m,\n",
       "    \u001b[32m'h'\u001b[0m,\n",
       "    \u001b[32m'Duration \u001b[0m\u001b[32m(\u001b[0m\u001b[32mms\u001b[0m\u001b[32m)\u001b[0m\u001b[32m'\u001b[0m,\n",
       "    \u001b[32m'ts'\u001b[0m,\n",
       "    \u001b[32m'Latitude'\u001b[0m,\n",
       "    \u001b[32m'Longitude'\u001b[0m,\n",
       "    \u001b[32m'LatitudeStart'\u001b[0m,\n",
       "    \u001b[32m'LongitudeStart'\u001b[0m,\n",
       "    \u001b[32m'LatitudeEnd'\u001b[0m,\n",
       "    \u001b[32m'LongitudeEnd'\u001b[0m,\n",
       "    \u001b[32m'Delayed'\u001b[0m,\n",
       "    \u001b[32m'Technology'\u001b[0m,\n",
       "    \u001b[32m'TechNR'\u001b[0m,\n",
       "    \u001b[32m'TechnologyF'\u001b[0m,\n",
       "    \u001b[32m'TechnologyL'\u001b[0m,\n",
       "    \u001b[32m'TechnologyHo'\u001b[0m,\n",
       "    \u001b[32m'NrState'\u001b[0m,\n",
       "    \u001b[32m'NrStateFirst'\u001b[0m,\n",
       "    \u001b[32m'NrStateLast'\u001b[0m,\n",
       "    \u001b[32m'Subtech'\u001b[0m,\n",
       "    \u001b[32m'SubtechF'\u001b[0m,\n",
       "    \u001b[32m'SubtechL'\u001b[0m,\n",
       "    \u001b[32m'BwDl'\u001b[0m,\n",
       "    \u001b[32m'BwDlF'\u001b[0m,\n",
       "    \u001b[32m'BwDlL'\u001b[0m,\n",
       "    \u001b[32m'BwUl'\u001b[0m,\n",
       "    \u001b[32m'BwUlF'\u001b[0m,\n",
       "    \u001b[32m'BwUlL'\u001b[0m,\n",
       "    \u001b[32m'FreqDl'\u001b[0m,\n",
       "    \u001b[32m'FreqDlF'\u001b[0m,\n",
       "    \u001b[32m'FreqDlL'\u001b[0m,\n",
       "    \u001b[32m'FreqDlHo'\u001b[0m,\n",
       "    \u001b[32m'FreqUl'\u001b[0m,\n",
       "    \u001b[32m'FreqUlF'\u001b[0m,\n",
       "    \u001b[32m'FreqUlL'\u001b[0m,\n",
       "    \u001b[32m'FreqUlHo'\u001b[0m,\n",
       "    \u001b[32m'CellId'\u001b[0m,\n",
       "    \u001b[32m'CellIdF'\u001b[0m,\n",
       "    \u001b[32m'CellIdL'\u001b[0m,\n",
       "    \u001b[32m'CellIdHo'\u001b[0m,\n",
       "    \u001b[32m'Cid'\u001b[0m,\n",
       "    \u001b[32m'CidF'\u001b[0m,\n",
       "    \u001b[32m'CidL'\u001b[0m,\n",
       "    \u001b[32m'Rnc'\u001b[0m,\n",
       "    \u001b[32m'RncF'\u001b[0m,\n",
       "    \u001b[32m'RncL'\u001b[0m,\n",
       "    \u001b[32m'TacId'\u001b[0m,\n",
       "    \u001b[32m'TacIdF'\u001b[0m,\n",
       "    \u001b[32m'TacIdL'\u001b[0m,\n",
       "    \u001b[32m'Rsrp \u001b[0m\u001b[32m(\u001b[0m\u001b[32mdBm\u001b[0m\u001b[32m)\u001b[0m\u001b[32m'\u001b[0m,\n",
       "    \u001b[32m'Rsrp \u001b[0m\u001b[32m(\u001b[0m\u001b[32mdBm\u001b[0m\u001b[32m)\u001b[0m\u001b[32m min'\u001b[0m,\n",
       "    \u001b[32m'Rsrp \u001b[0m\u001b[32m(\u001b[0m\u001b[32mdBm\u001b[0m\u001b[32m)\u001b[0m\u001b[32m Max'\u001b[0m,\n",
       "    \u001b[32m'Rank RSRP\u001b[0m\u001b[32m(\u001b[0m\u001b[32mdBm\u001b[0m\u001b[32m)\u001b[0m\u001b[32m'\u001b[0m,\n",
       "    \u001b[32m'Rsrq \u001b[0m\u001b[32m(\u001b[0m\u001b[32mdB\u001b[0m\u001b[32m)\u001b[0m\u001b[32m'\u001b[0m,\n",
       "    \u001b[32m'Rsrq \u001b[0m\u001b[32m(\u001b[0m\u001b[32mdB\u001b[0m\u001b[32m)\u001b[0m\u001b[32m min'\u001b[0m,\n",
       "    \u001b[32m'Rsrq \u001b[0m\u001b[32m(\u001b[0m\u001b[32mdB\u001b[0m\u001b[32m)\u001b[0m\u001b[32m Max'\u001b[0m,\n",
       "    \u001b[32m'Rank RSRQ\u001b[0m\u001b[32m(\u001b[0m\u001b[32mdB\u001b[0m\u001b[32m)\u001b[0m\u001b[32m'\u001b[0m,\n",
       "    \u001b[32m'Sinr \u001b[0m\u001b[32m(\u001b[0m\u001b[32mdB\u001b[0m\u001b[32m)\u001b[0m\u001b[32m'\u001b[0m,\n",
       "    \u001b[32m'Sinr \u001b[0m\u001b[32m(\u001b[0m\u001b[32mdB\u001b[0m\u001b[32m)\u001b[0m\u001b[32m min'\u001b[0m,\n",
       "    \u001b[32m'Sinr \u001b[0m\u001b[32m(\u001b[0m\u001b[32mdB\u001b[0m\u001b[32m)\u001b[0m\u001b[32m Max'\u001b[0m,\n",
       "    \u001b[32m'Rank SINR\u001b[0m\u001b[32m(\u001b[0m\u001b[32mdB\u001b[0m\u001b[32m)\u001b[0m\u001b[32m'\u001b[0m,\n",
       "    \u001b[32m'Rssi \u001b[0m\u001b[32m(\u001b[0m\u001b[32mdBm\u001b[0m\u001b[32m)\u001b[0m\u001b[32m'\u001b[0m,\n",
       "    \u001b[32m'Rssi \u001b[0m\u001b[32m(\u001b[0m\u001b[32mdBm\u001b[0m\u001b[32m)\u001b[0m\u001b[32m min'\u001b[0m,\n",
       "    \u001b[32m'Rssi \u001b[0m\u001b[32m(\u001b[0m\u001b[32mdBm\u001b[0m\u001b[32m)\u001b[0m\u001b[32m Max'\u001b[0m,\n",
       "    \u001b[32m'Rscp \u001b[0m\u001b[32m(\u001b[0m\u001b[32mdBm\u001b[0m\u001b[32m)\u001b[0m\u001b[32m'\u001b[0m,\n",
       "    \u001b[32m'Rscp \u001b[0m\u001b[32m(\u001b[0m\u001b[32mdBm\u001b[0m\u001b[32m)\u001b[0m\u001b[32m min'\u001b[0m,\n",
       "    \u001b[32m'Rscp \u001b[0m\u001b[32m(\u001b[0m\u001b[32mdBm\u001b[0m\u001b[32m)\u001b[0m\u001b[32m Max'\u001b[0m,\n",
       "    \u001b[32m'Rank RSCP\u001b[0m\u001b[32m(\u001b[0m\u001b[32mdBm\u001b[0m\u001b[32m)\u001b[0m\u001b[32m'\u001b[0m,\n",
       "    \u001b[32m'RxLev \u001b[0m\u001b[32m(\u001b[0m\u001b[32mdBm\u001b[0m\u001b[32m)\u001b[0m\u001b[32m'\u001b[0m,\n",
       "    \u001b[32m'RxLev \u001b[0m\u001b[32m(\u001b[0m\u001b[32mdBm\u001b[0m\u001b[32m)\u001b[0m\u001b[32m min'\u001b[0m,\n",
       "    \u001b[32m'RxLev \u001b[0m\u001b[32m(\u001b[0m\u001b[32mdBm\u001b[0m\u001b[32m)\u001b[0m\u001b[32m Max'\u001b[0m,\n",
       "    \u001b[32m'Rank RxLev\u001b[0m\u001b[32m(\u001b[0m\u001b[32mdBm\u001b[0m\u001b[32m)\u001b[0m\u001b[32m'\u001b[0m,\n",
       "    \u001b[32m'CallSetupSuccess \u001b[0m\u001b[32m(\u001b[0m\u001b[32m%\u001b[0m\u001b[32m)\u001b[0m\u001b[32m'\u001b[0m,\n",
       "    \u001b[32m'CallSuccess \u001b[0m\u001b[32m(\u001b[0m\u001b[32m%\u001b[0m\u001b[32m)\u001b[0m\u001b[32m'\u001b[0m,\n",
       "    \u001b[32m'DropCall \u001b[0m\u001b[32m(\u001b[0m\u001b[32m%\u001b[0m\u001b[32m)\u001b[0m\u001b[32m'\u001b[0m,\n",
       "    \u001b[32m'CallSrvcc'\u001b[0m,\n",
       "    \u001b[32m'CallSetupTime \u001b[0m\u001b[32m(\u001b[0m\u001b[32mms\u001b[0m\u001b[32m)\u001b[0m\u001b[32m'\u001b[0m,\n",
       "    \u001b[32m'CstEstimated'\u001b[0m,\n",
       "    \u001b[32m'CtEstimated'\u001b[0m,\n",
       "    \u001b[32m'CallTime \u001b[0m\u001b[32m(\u001b[0m\u001b[32mms\u001b[0m\u001b[32m)\u001b[0m\u001b[32m'\u001b[0m,\n",
       "    \u001b[32m'CallTarget'\u001b[0m,\n",
       "    \u001b[32m'CallDurationConfig \u001b[0m\u001b[32m(\u001b[0m\u001b[32mms\u001b[0m\u001b[32m)\u001b[0m\u001b[32m'\u001b[0m,\n",
       "    \u001b[32m'CallCsfbTime \u001b[0m\u001b[32m(\u001b[0m\u001b[32mms\u001b[0m\u001b[32m)\u001b[0m\u001b[32m'\u001b[0m,\n",
       "    \u001b[32m'CallLteReturnTime \u001b[0m\u001b[32m(\u001b[0m\u001b[32mms\u001b[0m\u001b[32m)\u001b[0m\u001b[32m'\u001b[0m,\n",
       "    \u001b[32m'CallCsfbInitialCell'\u001b[0m,\n",
       "    \u001b[32m'CallCsfbInitialTech'\u001b[0m,\n",
       "    \u001b[32m'CallCsfbFinalCell'\u001b[0m,\n",
       "    \u001b[32m'CallCsfbFinalTech'\u001b[0m,\n",
       "    \u001b[32m'CallCsfbReturnInitialCell'\u001b[0m,\n",
       "    \u001b[32m'CallCsfbReturnInitialTech'\u001b[0m,\n",
       "    \u001b[32m'CallCsfbReturnFinalCell'\u001b[0m,\n",
       "    \u001b[32m'CallCsfbReturnFinalTech'\u001b[0m,\n",
       "    \u001b[32m'EndCallCause'\u001b[0m,\n",
       "    \u001b[32m'EndCallCode'\u001b[0m,\n",
       "    \u001b[32m'CallOtherReasons'\u001b[0m,\n",
       "    \u001b[32m'CallMOS'\u001b[0m,\n",
       "    \u001b[32m'Call Status'\u001b[0m,\n",
       "    \u001b[32m'CallAttempt'\u001b[0m,\n",
       "    \u001b[32m'CallBlock'\u001b[0m,\n",
       "    \u001b[32m'CallDrop'\u001b[0m,\n",
       "    \u001b[32m'CallNoAnswer'\u001b[0m,\n",
       "    \u001b[32m'KpisCss'\u001b[0m,\n",
       "    \u001b[32m'KpisDc'\u001b[0m,\n",
       "    \u001b[32m'KpisCs'\u001b[0m,\n",
       "    \u001b[32m'KpisCt'\u001b[0m,\n",
       "    \u001b[32m'KpisCst'\u001b[0m,\n",
       "    \u001b[32m'Call Tech'\u001b[0m,\n",
       "    \u001b[32m'ChromeComplete \u001b[0m\u001b[32m(\u001b[0m\u001b[32m%\u001b[0m\u001b[32m)\u001b[0m\u001b[32m'\u001b[0m,\n",
       "    \u001b[32m'ChromeCompleteQ \u001b[0m\u001b[32m(\u001b[0m\u001b[32m%\u001b[0m\u001b[32m)\u001b[0m\u001b[32m'\u001b[0m,\n",
       "    \u001b[32m'ChromeLoadTime \u001b[0m\u001b[32m(\u001b[0m\u001b[32mms\u001b[0m\u001b[32m)\u001b[0m\u001b[32m'\u001b[0m,\n",
       "    \u001b[32m'ChromeNumResources'\u001b[0m,\n",
       "    \u001b[32m'ChromeDataLength \u001b[0m\u001b[32m(\u001b[0m\u001b[32mBytes\u001b[0m\u001b[32m)\u001b[0m\u001b[32m'\u001b[0m,\n",
       "    \u001b[32m'ChromeTotalResourcesTime \u001b[0m\u001b[32m(\u001b[0m\u001b[32mms\u001b[0m\u001b[32m)\u001b[0m\u001b[32m'\u001b[0m,\n",
       "    \u001b[32m'ChromeDnsLookup \u001b[0m\u001b[32m(\u001b[0m\u001b[32mms\u001b[0m\u001b[32m)\u001b[0m\u001b[32m'\u001b[0m,\n",
       "    \u001b[32m'ChromeEncodedDataLength'\u001b[0m,\n",
       "    \u001b[32m'ChromeFailedRequest \u001b[0m\u001b[32m(\u001b[0m\u001b[32m%\u001b[0m\u001b[32m)\u001b[0m\u001b[32m'\u001b[0m,\n",
       "    \u001b[32m'ChromeDomContentEventFired \u001b[0m\u001b[32m(\u001b[0m\u001b[32mms\u001b[0m\u001b[32m)\u001b[0m\u001b[32m'\u001b[0m,\n",
       "    \u001b[32m'ChromeInitialConnection \u001b[0m\u001b[32m(\u001b[0m\u001b[32mms\u001b[0m\u001b[32m)\u001b[0m\u001b[32m'\u001b[0m,\n",
       "    \u001b[32m'ChromeContentDownload'\u001b[0m,\n",
       "    \u001b[32m'ChromeStalledTime \u001b[0m\u001b[32m(\u001b[0m\u001b[32mms\u001b[0m\u001b[32m)\u001b[0m\u001b[32m'\u001b[0m,\n",
       "    \u001b[32m'ChromeQueueingTime \u001b[0m\u001b[32m(\u001b[0m\u001b[32mms\u001b[0m\u001b[32m)\u001b[0m\u001b[32m'\u001b[0m,\n",
       "    \u001b[32m'ChromeSslTime \u001b[0m\u001b[32m(\u001b[0m\u001b[32mms\u001b[0m\u001b[32m)\u001b[0m\u001b[32m'\u001b[0m,\n",
       "    \u001b[32m'ChromeTarget'\u001b[0m,\n",
       "    \u001b[32m'ChromeFirstViewResolution \u001b[0m\u001b[32m(\u001b[0m\u001b[32mms\u001b[0m\u001b[32m)\u001b[0m\u001b[32m'\u001b[0m,\n",
       "    \u001b[32m'PingComplete \u001b[0m\u001b[32m(\u001b[0m\u001b[32m%\u001b[0m\u001b[32m)\u001b[0m\u001b[32m'\u001b[0m,\n",
       "    \u001b[32m'PingCompleteQ \u001b[0m\u001b[32m(\u001b[0m\u001b[32m%\u001b[0m\u001b[32m)\u001b[0m\u001b[32m'\u001b[0m,\n",
       "    \u001b[32m'PingPacketLoss \u001b[0m\u001b[32m(\u001b[0m\u001b[32m%\u001b[0m\u001b[32m)\u001b[0m\u001b[32m'\u001b[0m,\n",
       "    \u001b[32m'PingDnsDelay \u001b[0m\u001b[32m(\u001b[0m\u001b[32mms\u001b[0m\u001b[32m)\u001b[0m\u001b[32m'\u001b[0m,\n",
       "    \u001b[32m'PingLatency \u001b[0m\u001b[32m(\u001b[0m\u001b[32mms\u001b[0m\u001b[32m)\u001b[0m\u001b[32m'\u001b[0m,\n",
       "    \u001b[32m'PingJitter \u001b[0m\u001b[32m(\u001b[0m\u001b[32mms\u001b[0m\u001b[32m)\u001b[0m\u001b[32m'\u001b[0m,\n",
       "    \u001b[32m'PingMax \u001b[0m\u001b[32m(\u001b[0m\u001b[32mms\u001b[0m\u001b[32m)\u001b[0m\u001b[32m'\u001b[0m,\n",
       "    \u001b[32m'PingMin \u001b[0m\u001b[32m(\u001b[0m\u001b[32mms\u001b[0m\u001b[32m)\u001b[0m\u001b[32m'\u001b[0m,\n",
       "    \u001b[32m'PingTxPackets'\u001b[0m,\n",
       "    \u001b[32m'PingRxPackets'\u001b[0m,\n",
       "    \u001b[32m'PingTimeOutPackets'\u001b[0m,\n",
       "    \u001b[32m'PingCorruptedPackets'\u001b[0m,\n",
       "    \u001b[32m'PingTarget'\u001b[0m,\n",
       "    \u001b[32m'GamingComplete \u001b[0m\u001b[32m(\u001b[0m\u001b[32m%\u001b[0m\u001b[32m)\u001b[0m\u001b[32m'\u001b[0m,\n",
       "    \u001b[32m'GamingPacketLoss \u001b[0m\u001b[32m(\u001b[0m\u001b[32m%\u001b[0m\u001b[32m)\u001b[0m\u001b[32m'\u001b[0m,\n",
       "    \u001b[32m'GamingDnsDelay \u001b[0m\u001b[32m(\u001b[0m\u001b[32mms\u001b[0m\u001b[32m)\u001b[0m\u001b[32m'\u001b[0m,\n",
       "    \u001b[32m'GamingLatency \u001b[0m\u001b[32m(\u001b[0m\u001b[32mms\u001b[0m\u001b[32m)\u001b[0m\u001b[32m'\u001b[0m,\n",
       "    \u001b[32m'GamingJitter \u001b[0m\u001b[32m(\u001b[0m\u001b[32mms\u001b[0m\u001b[32m)\u001b[0m\u001b[32m'\u001b[0m,\n",
       "    \u001b[32m'GamingMax \u001b[0m\u001b[32m(\u001b[0m\u001b[32mms\u001b[0m\u001b[32m)\u001b[0m\u001b[32m'\u001b[0m,\n",
       "    \u001b[32m'GamingMin \u001b[0m\u001b[32m(\u001b[0m\u001b[32mms\u001b[0m\u001b[32m)\u001b[0m\u001b[32m'\u001b[0m,\n",
       "    \u001b[32m'GamingTxPackets'\u001b[0m,\n",
       "    \u001b[32m'GamingRxPackets'\u001b[0m,\n",
       "    \u001b[32m'GamingTimeOutPackets'\u001b[0m,\n",
       "    \u001b[32m'GamingCorruptedPackets'\u001b[0m,\n",
       "    \u001b[32m'GamingTarget'\u001b[0m,\n",
       "    \u001b[32m'CloudDLComplete \u001b[0m\u001b[32m(\u001b[0m\u001b[32m%\u001b[0m\u001b[32m)\u001b[0m\u001b[32m'\u001b[0m,\n",
       "    \u001b[32m'CloudDLCompleteQ \u001b[0m\u001b[32m(\u001b[0m\u001b[32m%\u001b[0m\u001b[32m)\u001b[0m\u001b[32m'\u001b[0m,\n",
       "    \u001b[32m'CloudConnTimeDl'\u001b[0m,\n",
       "    \u001b[32m'CloudDL \u001b[0m\u001b[32m(\u001b[0m\u001b[32mMbps\u001b[0m\u001b[32m)\u001b[0m\u001b[32m'\u001b[0m,\n",
       "    \u001b[32m'CloudDLAvg \u001b[0m\u001b[32m(\u001b[0m\u001b[32mMbps\u001b[0m\u001b[32m)\u001b[0m\u001b[32m'\u001b[0m,\n",
       "    \u001b[32m'CloudDLP50 \u001b[0m\u001b[32m(\u001b[0m\u001b[32mMbps\u001b[0m\u001b[32m)\u001b[0m\u001b[32m'\u001b[0m,\n",
       "    \u001b[32m'CloudDLP90 \u001b[0m\u001b[32m(\u001b[0m\u001b[32mMbps\u001b[0m\u001b[32m)\u001b[0m\u001b[32m'\u001b[0m,\n",
       "    \u001b[32m'CloudDLP10 \u001b[0m\u001b[32m(\u001b[0m\u001b[32mMbps\u001b[0m\u001b[32m)\u001b[0m\u001b[32m'\u001b[0m,\n",
       "    \u001b[32m'CloudDLMax \u001b[0m\u001b[32m(\u001b[0m\u001b[32mMbps\u001b[0m\u001b[32m)\u001b[0m\u001b[32m'\u001b[0m,\n",
       "    \u001b[32m'CloudDLMin \u001b[0m\u001b[32m(\u001b[0m\u001b[32mMbps\u001b[0m\u001b[32m)\u001b[0m\u001b[32m'\u001b[0m,\n",
       "    \u001b[32m'CloudDLTotThreads'\u001b[0m,\n",
       "    \u001b[32m'CloudDLErrorThreads'\u001b[0m,\n",
       "    \u001b[32m'Rank CloudDL \u001b[0m\u001b[32m(\u001b[0m\u001b[32mMbps\u001b[0m\u001b[32m)\u001b[0m\u001b[32m'\u001b[0m,\n",
       "    \u001b[32m'CloudULComplete \u001b[0m\u001b[32m(\u001b[0m\u001b[32m%\u001b[0m\u001b[32m)\u001b[0m\u001b[32m'\u001b[0m,\n",
       "    \u001b[32m'CloudULCompleteQ \u001b[0m\u001b[32m(\u001b[0m\u001b[32m%\u001b[0m\u001b[32m)\u001b[0m\u001b[32m'\u001b[0m,\n",
       "    \u001b[32m'CloudConnTimeUl'\u001b[0m,\n",
       "    \u001b[32m'CloudUL \u001b[0m\u001b[32m(\u001b[0m\u001b[32mMbps\u001b[0m\u001b[32m)\u001b[0m\u001b[32m'\u001b[0m,\n",
       "    \u001b[32m'CloudULAvg \u001b[0m\u001b[32m(\u001b[0m\u001b[32mMbps\u001b[0m\u001b[32m)\u001b[0m\u001b[32m'\u001b[0m,\n",
       "    \u001b[32m'CloudULP50 \u001b[0m\u001b[32m(\u001b[0m\u001b[32mMbps\u001b[0m\u001b[32m)\u001b[0m\u001b[32m'\u001b[0m,\n",
       "    \u001b[32m'CloudULP90 \u001b[0m\u001b[32m(\u001b[0m\u001b[32mMbps\u001b[0m\u001b[32m)\u001b[0m\u001b[32m'\u001b[0m,\n",
       "    \u001b[32m'CloudULP10 \u001b[0m\u001b[32m(\u001b[0m\u001b[32mMbps\u001b[0m\u001b[32m)\u001b[0m\u001b[32m'\u001b[0m,\n",
       "    \u001b[32m'CloudULMax \u001b[0m\u001b[32m(\u001b[0m\u001b[32mMbps\u001b[0m\u001b[32m)\u001b[0m\u001b[32m'\u001b[0m,\n",
       "    \u001b[32m'CloudULMin \u001b[0m\u001b[32m(\u001b[0m\u001b[32mMbps\u001b[0m\u001b[32m)\u001b[0m\u001b[32m'\u001b[0m,\n",
       "    \u001b[32m'CloudULTotThreads'\u001b[0m,\n",
       "    \u001b[32m'CloudULErrorThreads'\u001b[0m,\n",
       "    \u001b[32m'Rank CloudUL \u001b[0m\u001b[32m(\u001b[0m\u001b[32mMbps\u001b[0m\u001b[32m)\u001b[0m\u001b[32m'\u001b[0m,\n",
       "    \u001b[32m'DropboxComplete \u001b[0m\u001b[32m(\u001b[0m\u001b[32m%\u001b[0m\u001b[32m)\u001b[0m\u001b[32m'\u001b[0m,\n",
       "    \u001b[32m'DropboxDnsLookup \u001b[0m\u001b[32m(\u001b[0m\u001b[32mms\u001b[0m\u001b[32m)\u001b[0m\u001b[32m'\u001b[0m,\n",
       "    \u001b[32m'DropboxSpeed \u001b[0m\u001b[32m(\u001b[0m\u001b[32mMbps\u001b[0m\u001b[32m)\u001b[0m\u001b[32m'\u001b[0m,\n",
       "    \u001b[32m'DropboxTimeDL \u001b[0m\u001b[32m(\u001b[0m\u001b[32mms\u001b[0m\u001b[32m)\u001b[0m\u001b[32m'\u001b[0m,\n",
       "    \u001b[32m'DropboxTarget'\u001b[0m,\n",
       "    \u001b[32m'FacebookComplete \u001b[0m\u001b[32m(\u001b[0m\u001b[32m%\u001b[0m\u001b[32m)\u001b[0m\u001b[32m'\u001b[0m,\n",
       "    \u001b[32m'FacebookCompleteQ \u001b[0m\u001b[32m(\u001b[0m\u001b[32m%\u001b[0m\u001b[32m)\u001b[0m\u001b[32m'\u001b[0m,\n",
       "    \u001b[32m'FacebookTimeToConnect \u001b[0m\u001b[32m(\u001b[0m\u001b[32mms\u001b[0m\u001b[32m)\u001b[0m\u001b[32m'\u001b[0m,\n",
       "    \u001b[32m'FacebookStructureLoadTime \u001b[0m\u001b[32m(\u001b[0m\u001b[32mms\u001b[0m\u001b[32m)\u001b[0m\u001b[32m'\u001b[0m,\n",
       "    \u001b[32m'FacebookWallLoadTime \u001b[0m\u001b[32m(\u001b[0m\u001b[32mms\u001b[0m\u001b[32m)\u001b[0m\u001b[32m'\u001b[0m,\n",
       "    \u001b[32m'FacebookTotalLoadTime \u001b[0m\u001b[32m(\u001b[0m\u001b[32mms\u001b[0m\u001b[32m)\u001b[0m\u001b[32m'\u001b[0m,\n",
       "    \u001b[32m'TwitterComplete \u001b[0m\u001b[32m(\u001b[0m\u001b[32m%\u001b[0m\u001b[32m)\u001b[0m\u001b[32m'\u001b[0m,\n",
       "    \u001b[32m'TwitterTimeToConnect \u001b[0m\u001b[32m(\u001b[0m\u001b[32mms\u001b[0m\u001b[32m)\u001b[0m\u001b[32m'\u001b[0m,\n",
       "    \u001b[32m'TwitterStructureLoadTime \u001b[0m\u001b[32m(\u001b[0m\u001b[32mms\u001b[0m\u001b[32m)\u001b[0m\u001b[32m'\u001b[0m,\n",
       "    \u001b[32m'TwitterFirstView \u001b[0m\u001b[32m(\u001b[0m\u001b[32mms\u001b[0m\u001b[32m)\u001b[0m\u001b[32m'\u001b[0m,\n",
       "    \u001b[32m'TwitterWallLoadTime \u001b[0m\u001b[32m(\u001b[0m\u001b[32mms\u001b[0m\u001b[32m)\u001b[0m\u001b[32m'\u001b[0m,\n",
       "    \u001b[32m'TwitterLoadTime \u001b[0m\u001b[32m(\u001b[0m\u001b[32mms\u001b[0m\u001b[32m)\u001b[0m\u001b[32m'\u001b[0m,\n",
       "    \u001b[32m'FtpDLComplete \u001b[0m\u001b[32m(\u001b[0m\u001b[32m%\u001b[0m\u001b[32m)\u001b[0m\u001b[32m'\u001b[0m,\n",
       "    \u001b[32m'FtpDLTime \u001b[0m\u001b[32m(\u001b[0m\u001b[32mms\u001b[0m\u001b[32m)\u001b[0m\u001b[32m'\u001b[0m,\n",
       "    \u001b[32m'FtpDLSpeed \u001b[0m\u001b[32m(\u001b[0m\u001b[32mMbps\u001b[0m\u001b[32m)\u001b[0m\u001b[32m'\u001b[0m,\n",
       "    \u001b[32m'FtpDLDataLength \u001b[0m\u001b[32m(\u001b[0m\u001b[32mMbps\u001b[0m\u001b[32m)\u001b[0m\u001b[32m'\u001b[0m,\n",
       "    \u001b[32m'FtpDlTargetDuration'\u001b[0m,\n",
       "    \u001b[32m'FtpDlTargetUrl'\u001b[0m,\n",
       "    \u001b[32m'FtpDLType'\u001b[0m,\n",
       "    \u001b[32m'FtpULComplete \u001b[0m\u001b[32m(\u001b[0m\u001b[32m%\u001b[0m\u001b[32m)\u001b[0m\u001b[32m'\u001b[0m,\n",
       "    \u001b[32m'FtpULTime \u001b[0m\u001b[32m(\u001b[0m\u001b[32mms\u001b[0m\u001b[32m)\u001b[0m\u001b[32m'\u001b[0m,\n",
       "    \u001b[32m'FtpULSpeed \u001b[0m\u001b[32m(\u001b[0m\u001b[32mMbps\u001b[0m\u001b[32m)\u001b[0m\u001b[32m'\u001b[0m,\n",
       "    \u001b[32m'FtpULDataLength \u001b[0m\u001b[32m(\u001b[0m\u001b[32mMbps\u001b[0m\u001b[32m)\u001b[0m\u001b[32m'\u001b[0m,\n",
       "    \u001b[32m'FtpUlTargetDuration'\u001b[0m,\n",
       "    \u001b[32m'FtpUlTargetUrl'\u001b[0m,\n",
       "    \u001b[32m'FtpULType'\u001b[0m,\n",
       "    \u001b[32m'HttpDLComplete \u001b[0m\u001b[32m(\u001b[0m\u001b[32m%\u001b[0m\u001b[32m)\u001b[0m\u001b[32m'\u001b[0m,\n",
       "    \u001b[32m'HttpDLSpeed \u001b[0m\u001b[32m(\u001b[0m\u001b[32mMbps\u001b[0m\u001b[32m)\u001b[0m\u001b[32m'\u001b[0m,\n",
       "    \u001b[32m'HttpDLConnTime \u001b[0m\u001b[32m(\u001b[0m\u001b[32mms\u001b[0m\u001b[32m)\u001b[0m\u001b[32m'\u001b[0m,\n",
       "    \u001b[32m'HttpDLBytes'\u001b[0m,\n",
       "    \u001b[32m'HttpDlTime \u001b[0m\u001b[32m(\u001b[0m\u001b[32mms\u001b[0m\u001b[32m)\u001b[0m\u001b[32m'\u001b[0m,\n",
       "    \u001b[32m'HttpDLSpeedUe \u001b[0m\u001b[32m(\u001b[0m\u001b[32mMbps\u001b[0m\u001b[32m)\u001b[0m\u001b[32m'\u001b[0m,\n",
       "    \u001b[32m'HttpDlTargetDuration'\u001b[0m,\n",
       "    \u001b[32m'HttpDlTargetUrl'\u001b[0m,\n",
       "    \u001b[32m'HttpDLType'\u001b[0m,\n",
       "    \u001b[32m'HttpULComplete \u001b[0m\u001b[32m(\u001b[0m\u001b[32m%\u001b[0m\u001b[32m)\u001b[0m\u001b[32m'\u001b[0m,\n",
       "    \u001b[32m'HttpULSpeed \u001b[0m\u001b[32m(\u001b[0m\u001b[32mMbps\u001b[0m\u001b[32m)\u001b[0m\u001b[32m'\u001b[0m,\n",
       "    \u001b[32m'HttpULConnTime \u001b[0m\u001b[32m(\u001b[0m\u001b[32mms\u001b[0m\u001b[32m)\u001b[0m\u001b[32m'\u001b[0m,\n",
       "    \u001b[32m'HttpULBytes'\u001b[0m,\n",
       "    \u001b[32m'HttpUlTime \u001b[0m\u001b[32m(\u001b[0m\u001b[32mms\u001b[0m\u001b[32m)\u001b[0m\u001b[32m'\u001b[0m,\n",
       "    \u001b[32m'HttpUlTimeUe \u001b[0m\u001b[32m(\u001b[0m\u001b[32mms\u001b[0m\u001b[32m)\u001b[0m\u001b[32m'\u001b[0m,\n",
       "    \u001b[32m'HttpUlTargetDuration'\u001b[0m,\n",
       "    \u001b[32m'HttpUlTargetUrl'\u001b[0m,\n",
       "    \u001b[32m'HttpULType'\u001b[0m,\n",
       "    \u001b[32m'YouTubeComplete \u001b[0m\u001b[32m(\u001b[0m\u001b[32m%\u001b[0m\u001b[32m)\u001b[0m\u001b[32m'\u001b[0m,\n",
       "    \u001b[32m'YouTubeCompleteQ \u001b[0m\u001b[32m(\u001b[0m\u001b[32m%\u001b[0m\u001b[32m)\u001b[0m\u001b[32m'\u001b[0m,\n",
       "    \u001b[32m'YouTubeSpeedDL \u001b[0m\u001b[32m(\u001b[0m\u001b[32mMbps\u001b[0m\u001b[32m)\u001b[0m\u001b[32m'\u001b[0m,\n",
       "    \u001b[32m'YouTubeBuffer \u001b[0m\u001b[32m(\u001b[0m\u001b[32mms\u001b[0m\u001b[32m)\u001b[0m\u001b[32m'\u001b[0m,\n",
       "    \u001b[32m'YouTubeLoadPlayer \u001b[0m\u001b[32m(\u001b[0m\u001b[32mms\u001b[0m\u001b[32m)\u001b[0m\u001b[32m'\u001b[0m,\n",
       "    \u001b[32m'YouTubeStartPlay \u001b[0m\u001b[32m(\u001b[0m\u001b[32mms\u001b[0m\u001b[32m)\u001b[0m\u001b[32m'\u001b[0m,\n",
       "    \u001b[32m'YouTubePlayingTime \u001b[0m\u001b[32m(\u001b[0m\u001b[32mms\u001b[0m\u001b[32m)\u001b[0m\u001b[32m'\u001b[0m,\n",
       "    \u001b[32m'YouTubeStalls'\u001b[0m,\n",
       "    \u001b[32m'YouTubeMaxStallTime \u001b[0m\u001b[32m(\u001b[0m\u001b[32mms\u001b[0m\u001b[32m)\u001b[0m\u001b[32m'\u001b[0m,\n",
       "    \u001b[32m'YouTubeStallsTime \u001b[0m\u001b[32m(\u001b[0m\u001b[32mms\u001b[0m\u001b[32m)\u001b[0m\u001b[32m'\u001b[0m,\n",
       "    \u001b[32m'YouTubeFirstStallTime \u001b[0m\u001b[32m(\u001b[0m\u001b[32mms\u001b[0m\u001b[32m)\u001b[0m\u001b[32m'\u001b[0m,\n",
       "    \u001b[32m'YouTubePlaybackQuality'\u001b[0m,\n",
       "    \u001b[32m'YouTubeHD2160'\u001b[0m,\n",
       "    \u001b[32m'YouTubeHD1440'\u001b[0m,\n",
       "    \u001b[32m'YouTubeHD1080'\u001b[0m,\n",
       "    \u001b[32m'YouTubeHD720'\u001b[0m,\n",
       "    \u001b[32m'YouTubeLarge'\u001b[0m,\n",
       "    \u001b[32m'YouTubeMedium'\u001b[0m,\n",
       "    \u001b[32m'YouTubeSmall'\u001b[0m,\n",
       "    \u001b[32m'YouTubeTiny'\u001b[0m,\n",
       "    \u001b[32m'YouTubeQualityConfig'\u001b[0m,\n",
       "    \u001b[32m'YouTubeTarget'\u001b[0m,\n",
       "    \u001b[32m'YouTubeValidQuality'\u001b[0m,\n",
       "    \u001b[32m'YouTubeQualityCount'\u001b[0m,\n",
       "    \u001b[32m'YouTubeQualityChanges'\u001b[0m,\n",
       "    \u001b[32m'YouTubeAvgResolution'\u001b[0m,\n",
       "    \u001b[32m'YouTubeType'\u001b[0m,\n",
       "    \u001b[32m'DNS-RequestComplete \u001b[0m\u001b[32m(\u001b[0m\u001b[32m%\u001b[0m\u001b[32m)\u001b[0m\u001b[32m'\u001b[0m,\n",
       "    \u001b[32m'DNS-RequestDNS'\u001b[0m,\n",
       "    \u001b[32m'DNS-RequestIp'\u001b[0m,\n",
       "    \u001b[32m'DNS-RequestTime \u001b[0m\u001b[32m(\u001b[0m\u001b[32mms\u001b[0m\u001b[32m)\u001b[0m\u001b[32m'\u001b[0m,\n",
       "    \u001b[32m'DNS-RequestUsedServers'\u001b[0m,\n",
       "    \u001b[32m'DNS-RequestAttempts'\u001b[0m,\n",
       "    \u001b[32m'DNS-RequestReattempts'\u001b[0m,\n",
       "    \u001b[32m'DNS-RequestDnsLookup \u001b[0m\u001b[32m(\u001b[0m\u001b[32mms\u001b[0m\u001b[32m)\u001b[0m\u001b[32m'\u001b[0m,\n",
       "    \u001b[32m'TargetDNS-Request'\u001b[0m,\n",
       "    \u001b[32m'WhatsAppTexComplete \u001b[0m\u001b[32m(\u001b[0m\u001b[32m%\u001b[0m\u001b[32m)\u001b[0m\u001b[32m'\u001b[0m,\n",
       "    \u001b[32m'WhatsAppTexCheck \u001b[0m\u001b[32m(\u001b[0m\u001b[32mms\u001b[0m\u001b[32m)\u001b[0m\u001b[32m'\u001b[0m,\n",
       "    \u001b[32m'WhatsAppTexDoubleCheck \u001b[0m\u001b[32m(\u001b[0m\u001b[32mms\u001b[0m\u001b[32m)\u001b[0m\u001b[32m'\u001b[0m\n",
       "\u001b[1m]\u001b[0m"
      ]
     },
     "execution_count": 16,
     "metadata": {},
     "output_type": "execute_result"
    }
   ],
   "source": [
    "df.columns.tolist()\n"
   ]
  },
  {
   "cell_type": "code",
   "execution_count": 17,
   "metadata": {},
   "outputs": [],
   "source": [
    "from ydata_profiling import ProfileReport\n",
    "\n",
    "\n",
    "profile = ProfileReport(df[df.columns[-30:]], title=\"Pandas Profiling Report\")"
   ]
  },
  {
   "cell_type": "code",
   "execution_count": null,
   "metadata": {},
   "outputs": [],
   "source": []
  },
  {
   "cell_type": "code",
   "execution_count": 18,
   "metadata": {},
   "outputs": [
    {
     "data": {
      "text/html": [
       "<pre style=\"white-space:pre;overflow-x:auto;line-height:normal;font-family:Menlo,'DejaVu Sans Mono',consolas,'Courier New',monospace\"><span style=\"color: #7fbfbf; text-decoration-color: #7fbfbf\">[11/17/23 20:39:11] </span><span style=\"color: #800000; text-decoration-color: #800000\">WARNING </span> c:\\Users\\David\\anaconda3\\envs\\datathon2023\\lib\\site-packages\\ydata_pro <a href=\"file://c:\\Users\\David\\anaconda3\\envs\\datathon2023\\lib\\warnings.py\" target=\"_blank\"><span style=\"color: #7f7f7f; text-decoration-color: #7f7f7f\">warnings.py</span></a><span style=\"color: #7f7f7f; text-decoration-color: #7f7f7f\">:</span><a href=\"file://c:\\Users\\David\\anaconda3\\envs\\datathon2023\\lib\\warnings.py#109\" target=\"_blank\"><span style=\"color: #7f7f7f; text-decoration-color: #7f7f7f\">109</span></a>\n",
       "<span style=\"color: #7fbfbf; text-decoration-color: #7fbfbf\">                    </span>         filing\\utils\\dataframe.py:<span style=\"color: #008080; text-decoration-color: #008080; font-weight: bold\">137</span>: SettingWithCopyWarning:                 <span style=\"color: #7f7f7f; text-decoration-color: #7f7f7f\">               </span>\n",
       "<span style=\"color: #7fbfbf; text-decoration-color: #7fbfbf\">                    </span>         A value is trying to be set on a copy of a slice from a DataFrame      <span style=\"color: #7f7f7f; text-decoration-color: #7f7f7f\">               </span>\n",
       "<span style=\"color: #7fbfbf; text-decoration-color: #7fbfbf\">                    </span>                                                                                <span style=\"color: #7f7f7f; text-decoration-color: #7f7f7f\">               </span>\n",
       "<span style=\"color: #7fbfbf; text-decoration-color: #7fbfbf\">                    </span>         See the caveats in the documentation:                                  <span style=\"color: #7f7f7f; text-decoration-color: #7f7f7f\">               </span>\n",
       "<span style=\"color: #7fbfbf; text-decoration-color: #7fbfbf\">                    </span>         <span style=\"color: #0000ff; text-decoration-color: #0000ff; text-decoration: underline\">https://pandas.pydata.org/pandas-docs/stable/user_guide/indexing.html#</span> <span style=\"color: #7f7f7f; text-decoration-color: #7f7f7f\">               </span>\n",
       "<span style=\"color: #7fbfbf; text-decoration-color: #7fbfbf\">                    </span>         <span style=\"color: #0000ff; text-decoration-color: #0000ff; text-decoration: underline\">returning-a-view-versus-a-copy</span>                                         <span style=\"color: #7f7f7f; text-decoration-color: #7f7f7f\">               </span>\n",
       "<span style=\"color: #7fbfbf; text-decoration-color: #7fbfbf\">                    </span>           <span style=\"color: #800080; text-decoration-color: #800080; font-weight: bold\">df.rename</span><span style=\"font-weight: bold\">(</span><span style=\"color: #808000; text-decoration-color: #808000\">columns</span>=<span style=\"font-weight: bold\">{</span><span style=\"color: #008000; text-decoration-color: #008000\">\"index\"</span>: <span style=\"color: #008000; text-decoration-color: #008000\">\"df_index\"</span><span style=\"font-weight: bold\">}</span>, <span style=\"color: #808000; text-decoration-color: #808000\">inplace</span>=<span style=\"color: #00ff00; text-decoration-color: #00ff00; font-style: italic\">True</span><span style=\"font-weight: bold\">)</span>               <span style=\"color: #7f7f7f; text-decoration-color: #7f7f7f\">               </span>\n",
       "<span style=\"color: #7fbfbf; text-decoration-color: #7fbfbf\">                    </span>                                                                                <span style=\"color: #7f7f7f; text-decoration-color: #7f7f7f\">               </span>\n",
       "</pre>\n"
      ],
      "text/plain": [
       "\u001b[2;36m[11/17/23 20:39:11]\u001b[0m\u001b[2;36m \u001b[0m\u001b[31mWARNING \u001b[0m c:\\Users\\David\\anaconda3\\envs\\datathon2023\\lib\\site-packages\\ydata_pro \u001b]8;id=769124;file://c:\\Users\\David\\anaconda3\\envs\\datathon2023\\lib\\warnings.py\u001b\\\u001b[2mwarnings.py\u001b[0m\u001b]8;;\u001b\\\u001b[2m:\u001b[0m\u001b]8;id=299221;file://c:\\Users\\David\\anaconda3\\envs\\datathon2023\\lib\\warnings.py#109\u001b\\\u001b[2m109\u001b[0m\u001b]8;;\u001b\\\n",
       "\u001b[2;36m                    \u001b[0m         filing\\utils\\dataframe.py:\u001b[1;36m137\u001b[0m: SettingWithCopyWarning:                 \u001b[2m               \u001b[0m\n",
       "\u001b[2;36m                    \u001b[0m         A value is trying to be set on a copy of a slice from a DataFrame      \u001b[2m               \u001b[0m\n",
       "\u001b[2;36m                    \u001b[0m                                                                                \u001b[2m               \u001b[0m\n",
       "\u001b[2;36m                    \u001b[0m         See the caveats in the documentation:                                  \u001b[2m               \u001b[0m\n",
       "\u001b[2;36m                    \u001b[0m         \u001b[4;94mhttps://pandas.pydata.org/pandas-docs/stable/user_guide/indexing.html#\u001b[0m \u001b[2m               \u001b[0m\n",
       "\u001b[2;36m                    \u001b[0m         \u001b[4;94mreturning-a-view-versus-a-copy\u001b[0m                                         \u001b[2m               \u001b[0m\n",
       "\u001b[2;36m                    \u001b[0m           \u001b[1;35mdf.rename\u001b[0m\u001b[1m(\u001b[0m\u001b[33mcolumns\u001b[0m=\u001b[1m{\u001b[0m\u001b[32m\"index\"\u001b[0m: \u001b[32m\"df_index\"\u001b[0m\u001b[1m}\u001b[0m, \u001b[33minplace\u001b[0m=\u001b[3;92mTrue\u001b[0m\u001b[1m)\u001b[0m               \u001b[2m               \u001b[0m\n",
       "\u001b[2;36m                    \u001b[0m                                                                                \u001b[2m               \u001b[0m\n"
      ]
     },
     "metadata": {},
     "output_type": "display_data"
    },
    {
     "data": {
      "application/vnd.jupyter.widget-view+json": {
       "model_id": "c70285d36fb5481d9beab280b0134b0d",
       "version_major": 2,
       "version_minor": 0
      },
      "text/plain": [
       "Summarize dataset:   0%|          | 0/5 [00:00<?, ?it/s]"
      ]
     },
     "metadata": {},
     "output_type": "display_data"
    },
    {
     "data": {
      "application/vnd.jupyter.widget-view+json": {
       "model_id": "61c5fe17a4b24f70b1d1b856a3b08e27",
       "version_major": 2,
       "version_minor": 0
      },
      "text/plain": [
       "Generate report structure:   0%|          | 0/1 [00:00<?, ?it/s]"
      ]
     },
     "metadata": {},
     "output_type": "display_data"
    },
    {
     "data": {
      "application/vnd.jupyter.widget-view+json": {
       "model_id": "69cad6ddc9cb47e782543a81fd9d0e78",
       "version_major": 2,
       "version_minor": 0
      },
      "text/plain": [
       "Render HTML:   0%|          | 0/1 [00:00<?, ?it/s]"
      ]
     },
     "metadata": {},
     "output_type": "display_data"
    },
    {
     "data": {
      "application/vnd.jupyter.widget-view+json": {
       "model_id": "4d477b22fa3a4575a8d7ed87e1e04a33",
       "version_major": 2,
       "version_minor": 0
      },
      "text/plain": [
       "Export report to file:   0%|          | 0/1 [00:00<?, ?it/s]"
      ]
     },
     "metadata": {},
     "output_type": "display_data"
    }
   ],
   "source": [
    "profile.to_file('output.html')"
   ]
  },
  {
   "cell_type": "code",
   "execution_count": null,
   "metadata": {},
   "outputs": [],
   "source": []
  }
 ],
 "metadata": {
  "kernelspec": {
   "display_name": "Python 3.10.13 ('datathon2023')",
   "language": "python",
   "name": "python3"
  },
  "language_info": {
   "codemirror_mode": {
    "name": "ipython",
    "version": 3
   },
   "file_extension": ".py",
   "mimetype": "text/x-python",
   "name": "python",
   "nbconvert_exporter": "python",
   "pygments_lexer": "ipython3",
   "version": "3.10.13"
  },
  "orig_nbformat": 4,
  "vscode": {
   "interpreter": {
    "hash": "60e39795f346dfd94e89bfea7ff6b148ba5be355262abf3ce7e83ede4866d9e5"
   }
  }
 },
 "nbformat": 4,
 "nbformat_minor": 2
}
